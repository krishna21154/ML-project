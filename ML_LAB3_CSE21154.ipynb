{
 "cells": [
  {
   "cell_type": "code",
   "execution_count": 78,
   "id": "d7b05ee6",
   "metadata": {},
   "outputs": [
    {
     "data": {
      "text/html": [
       "<div>\n",
       "<style scoped>\n",
       "    .dataframe tbody tr th:only-of-type {\n",
       "        vertical-align: middle;\n",
       "    }\n",
       "\n",
       "    .dataframe tbody tr th {\n",
       "        vertical-align: top;\n",
       "    }\n",
       "\n",
       "    .dataframe thead th {\n",
       "        text-align: right;\n",
       "    }\n",
       "</style>\n",
       "<table border=\"1\" class=\"dataframe\">\n",
       "  <thead>\n",
       "    <tr style=\"text-align: right;\">\n",
       "      <th></th>\n",
       "      <th>dissimilarity_0</th>\n",
       "      <th>dissimilarity_45</th>\n",
       "      <th>dissimilarity_90</th>\n",
       "      <th>dissimilarity_135</th>\n",
       "      <th>correlation_0</th>\n",
       "      <th>correlation_45</th>\n",
       "      <th>correlation_90</th>\n",
       "      <th>correlation_135</th>\n",
       "      <th>homogeneity_0</th>\n",
       "      <th>homogeneity_45</th>\n",
       "      <th>...</th>\n",
       "      <th>ASM_0</th>\n",
       "      <th>ASM_45</th>\n",
       "      <th>ASM_90</th>\n",
       "      <th>ASM_135</th>\n",
       "      <th>energy_0</th>\n",
       "      <th>energy_45</th>\n",
       "      <th>energy_90</th>\n",
       "      <th>energy_135</th>\n",
       "      <th>label</th>\n",
       "      <th>fname</th>\n",
       "    </tr>\n",
       "  </thead>\n",
       "  <tbody>\n",
       "    <tr>\n",
       "      <th>0</th>\n",
       "      <td>3.678102</td>\n",
       "      <td>6.468785</td>\n",
       "      <td>6.257544</td>\n",
       "      <td>6.491273</td>\n",
       "      <td>0.915573</td>\n",
       "      <td>0.018493</td>\n",
       "      <td>0.075505</td>\n",
       "      <td>0.021779</td>\n",
       "      <td>0.275196</td>\n",
       "      <td>0.202223</td>\n",
       "      <td>...</td>\n",
       "      <td>0.003788</td>\n",
       "      <td>0.002980</td>\n",
       "      <td>0.003008</td>\n",
       "      <td>0.002954</td>\n",
       "      <td>0.061551</td>\n",
       "      <td>0.054587</td>\n",
       "      <td>0.054849</td>\n",
       "      <td>0.054355</td>\n",
       "      <td>2</td>\n",
       "      <td>1.png</td>\n",
       "    </tr>\n",
       "    <tr>\n",
       "      <th>1</th>\n",
       "      <td>4.396102</td>\n",
       "      <td>12.171347</td>\n",
       "      <td>13.892070</td>\n",
       "      <td>13.380560</td>\n",
       "      <td>0.959208</td>\n",
       "      <td>0.717372</td>\n",
       "      <td>0.645733</td>\n",
       "      <td>0.672928</td>\n",
       "      <td>0.354369</td>\n",
       "      <td>0.256529</td>\n",
       "      <td>...</td>\n",
       "      <td>0.003142</td>\n",
       "      <td>0.002297</td>\n",
       "      <td>0.002205</td>\n",
       "      <td>0.002255</td>\n",
       "      <td>0.056056</td>\n",
       "      <td>0.047928</td>\n",
       "      <td>0.046956</td>\n",
       "      <td>0.047492</td>\n",
       "      <td>2</td>\n",
       "      <td>10.jpg.png</td>\n",
       "    </tr>\n",
       "    <tr>\n",
       "      <th>2</th>\n",
       "      <td>3.334305</td>\n",
       "      <td>4.433875</td>\n",
       "      <td>4.334105</td>\n",
       "      <td>4.405370</td>\n",
       "      <td>0.787040</td>\n",
       "      <td>0.602248</td>\n",
       "      <td>0.619119</td>\n",
       "      <td>0.608713</td>\n",
       "      <td>0.280222</td>\n",
       "      <td>0.224585</td>\n",
       "      <td>...</td>\n",
       "      <td>0.003641</td>\n",
       "      <td>0.002988</td>\n",
       "      <td>0.003047</td>\n",
       "      <td>0.003001</td>\n",
       "      <td>0.060337</td>\n",
       "      <td>0.054659</td>\n",
       "      <td>0.055196</td>\n",
       "      <td>0.054781</td>\n",
       "      <td>2</td>\n",
       "      <td>10.png</td>\n",
       "    </tr>\n",
       "    <tr>\n",
       "      <th>3</th>\n",
       "      <td>4.314475</td>\n",
       "      <td>5.777836</td>\n",
       "      <td>5.753193</td>\n",
       "      <td>5.763689</td>\n",
       "      <td>0.756037</td>\n",
       "      <td>0.628341</td>\n",
       "      <td>0.657986</td>\n",
       "      <td>0.623906</td>\n",
       "      <td>0.252098</td>\n",
       "      <td>0.192253</td>\n",
       "      <td>...</td>\n",
       "      <td>0.002579</td>\n",
       "      <td>0.001978</td>\n",
       "      <td>0.001920</td>\n",
       "      <td>0.001995</td>\n",
       "      <td>0.050784</td>\n",
       "      <td>0.044475</td>\n",
       "      <td>0.043812</td>\n",
       "      <td>0.044663</td>\n",
       "      <td>2</td>\n",
       "      <td>100.png</td>\n",
       "    </tr>\n",
       "    <tr>\n",
       "      <th>4</th>\n",
       "      <td>5.857288</td>\n",
       "      <td>16.737261</td>\n",
       "      <td>17.875895</td>\n",
       "      <td>17.089386</td>\n",
       "      <td>0.952071</td>\n",
       "      <td>0.403892</td>\n",
       "      <td>0.267009</td>\n",
       "      <td>0.377622</td>\n",
       "      <td>0.201498</td>\n",
       "      <td>0.107262</td>\n",
       "      <td>...</td>\n",
       "      <td>0.001144</td>\n",
       "      <td>0.000805</td>\n",
       "      <td>0.000844</td>\n",
       "      <td>0.000806</td>\n",
       "      <td>0.033822</td>\n",
       "      <td>0.028372</td>\n",
       "      <td>0.029049</td>\n",
       "      <td>0.028390</td>\n",
       "      <td>2</td>\n",
       "      <td>10091.jpg</td>\n",
       "    </tr>\n",
       "  </tbody>\n",
       "</table>\n",
       "<p>5 rows × 26 columns</p>\n",
       "</div>"
      ],
      "text/plain": [
       "   dissimilarity_0  dissimilarity_45  dissimilarity_90  dissimilarity_135  \\\n",
       "0         3.678102          6.468785          6.257544           6.491273   \n",
       "1         4.396102         12.171347         13.892070          13.380560   \n",
       "2         3.334305          4.433875          4.334105           4.405370   \n",
       "3         4.314475          5.777836          5.753193           5.763689   \n",
       "4         5.857288         16.737261         17.875895          17.089386   \n",
       "\n",
       "   correlation_0  correlation_45  correlation_90  correlation_135  \\\n",
       "0       0.915573        0.018493        0.075505         0.021779   \n",
       "1       0.959208        0.717372        0.645733         0.672928   \n",
       "2       0.787040        0.602248        0.619119         0.608713   \n",
       "3       0.756037        0.628341        0.657986         0.623906   \n",
       "4       0.952071        0.403892        0.267009         0.377622   \n",
       "\n",
       "   homogeneity_0  homogeneity_45  ...     ASM_0    ASM_45    ASM_90   ASM_135  \\\n",
       "0       0.275196        0.202223  ...  0.003788  0.002980  0.003008  0.002954   \n",
       "1       0.354369        0.256529  ...  0.003142  0.002297  0.002205  0.002255   \n",
       "2       0.280222        0.224585  ...  0.003641  0.002988  0.003047  0.003001   \n",
       "3       0.252098        0.192253  ...  0.002579  0.001978  0.001920  0.001995   \n",
       "4       0.201498        0.107262  ...  0.001144  0.000805  0.000844  0.000806   \n",
       "\n",
       "   energy_0  energy_45  energy_90  energy_135  label       fname  \n",
       "0  0.061551   0.054587   0.054849    0.054355      2       1.png  \n",
       "1  0.056056   0.047928   0.046956    0.047492      2  10.jpg.png  \n",
       "2  0.060337   0.054659   0.055196    0.054781      2      10.png  \n",
       "3  0.050784   0.044475   0.043812    0.044663      2     100.png  \n",
       "4  0.033822   0.028372   0.029049    0.028390      2   10091.jpg  \n",
       "\n",
       "[5 rows x 26 columns]"
      ]
     },
     "execution_count": 78,
     "metadata": {},
     "output_type": "execute_result"
    }
   ],
   "source": [
    "import pandas as pd\n",
    "import numpy as np\n",
    "df=pd.read_excel(\"GLCM_extended_dataset_31-01-2023.xlsx\")\n",
    "df.head()\n",
    "\n"
   ]
  },
  {
   "cell_type": "code",
   "execution_count": 80,
   "id": "832ddeb8",
   "metadata": {
    "scrolled": true
   },
   "outputs": [],
   "source": [
    "df.drop(\"fname\",axis=1,inplace=True)"
   ]
  },
  {
   "cell_type": "code",
   "execution_count": 81,
   "id": "6483b760",
   "metadata": {},
   "outputs": [
    {
     "data": {
      "text/html": [
       "<div>\n",
       "<style scoped>\n",
       "    .dataframe tbody tr th:only-of-type {\n",
       "        vertical-align: middle;\n",
       "    }\n",
       "\n",
       "    .dataframe tbody tr th {\n",
       "        vertical-align: top;\n",
       "    }\n",
       "\n",
       "    .dataframe thead th {\n",
       "        text-align: right;\n",
       "    }\n",
       "</style>\n",
       "<table border=\"1\" class=\"dataframe\">\n",
       "  <thead>\n",
       "    <tr style=\"text-align: right;\">\n",
       "      <th></th>\n",
       "      <th>dissimilarity_0</th>\n",
       "      <th>dissimilarity_45</th>\n",
       "      <th>dissimilarity_90</th>\n",
       "      <th>dissimilarity_135</th>\n",
       "      <th>correlation_0</th>\n",
       "      <th>correlation_45</th>\n",
       "      <th>correlation_90</th>\n",
       "      <th>correlation_135</th>\n",
       "      <th>homogeneity_0</th>\n",
       "      <th>homogeneity_45</th>\n",
       "      <th>...</th>\n",
       "      <th>contrast_135</th>\n",
       "      <th>ASM_0</th>\n",
       "      <th>ASM_45</th>\n",
       "      <th>ASM_90</th>\n",
       "      <th>ASM_135</th>\n",
       "      <th>energy_0</th>\n",
       "      <th>energy_45</th>\n",
       "      <th>energy_90</th>\n",
       "      <th>energy_135</th>\n",
       "      <th>label</th>\n",
       "    </tr>\n",
       "  </thead>\n",
       "  <tbody>\n",
       "    <tr>\n",
       "      <th>0</th>\n",
       "      <td>3.678102</td>\n",
       "      <td>6.468785</td>\n",
       "      <td>6.257544</td>\n",
       "      <td>6.491273</td>\n",
       "      <td>0.915573</td>\n",
       "      <td>0.018493</td>\n",
       "      <td>0.075505</td>\n",
       "      <td>0.021779</td>\n",
       "      <td>0.275196</td>\n",
       "      <td>0.202223</td>\n",
       "      <td>...</td>\n",
       "      <td>215.975507</td>\n",
       "      <td>0.003788</td>\n",
       "      <td>0.002980</td>\n",
       "      <td>0.003008</td>\n",
       "      <td>0.002954</td>\n",
       "      <td>0.061551</td>\n",
       "      <td>0.054587</td>\n",
       "      <td>0.054849</td>\n",
       "      <td>0.054355</td>\n",
       "      <td>2</td>\n",
       "    </tr>\n",
       "    <tr>\n",
       "      <th>1</th>\n",
       "      <td>4.396102</td>\n",
       "      <td>12.171347</td>\n",
       "      <td>13.892070</td>\n",
       "      <td>13.380560</td>\n",
       "      <td>0.959208</td>\n",
       "      <td>0.717372</td>\n",
       "      <td>0.645733</td>\n",
       "      <td>0.672928</td>\n",
       "      <td>0.354369</td>\n",
       "      <td>0.256529</td>\n",
       "      <td>...</td>\n",
       "      <td>1031.298494</td>\n",
       "      <td>0.003142</td>\n",
       "      <td>0.002297</td>\n",
       "      <td>0.002205</td>\n",
       "      <td>0.002255</td>\n",
       "      <td>0.056056</td>\n",
       "      <td>0.047928</td>\n",
       "      <td>0.046956</td>\n",
       "      <td>0.047492</td>\n",
       "      <td>2</td>\n",
       "    </tr>\n",
       "    <tr>\n",
       "      <th>2</th>\n",
       "      <td>3.334305</td>\n",
       "      <td>4.433875</td>\n",
       "      <td>4.334105</td>\n",
       "      <td>4.405370</td>\n",
       "      <td>0.787040</td>\n",
       "      <td>0.602248</td>\n",
       "      <td>0.619119</td>\n",
       "      <td>0.608713</td>\n",
       "      <td>0.280222</td>\n",
       "      <td>0.224585</td>\n",
       "      <td>...</td>\n",
       "      <td>39.051415</td>\n",
       "      <td>0.003641</td>\n",
       "      <td>0.002988</td>\n",
       "      <td>0.003047</td>\n",
       "      <td>0.003001</td>\n",
       "      <td>0.060337</td>\n",
       "      <td>0.054659</td>\n",
       "      <td>0.055196</td>\n",
       "      <td>0.054781</td>\n",
       "      <td>2</td>\n",
       "    </tr>\n",
       "    <tr>\n",
       "      <th>3</th>\n",
       "      <td>4.314475</td>\n",
       "      <td>5.777836</td>\n",
       "      <td>5.753193</td>\n",
       "      <td>5.763689</td>\n",
       "      <td>0.756037</td>\n",
       "      <td>0.628341</td>\n",
       "      <td>0.657986</td>\n",
       "      <td>0.623906</td>\n",
       "      <td>0.252098</td>\n",
       "      <td>0.192253</td>\n",
       "      <td>...</td>\n",
       "      <td>92.771572</td>\n",
       "      <td>0.002579</td>\n",
       "      <td>0.001978</td>\n",
       "      <td>0.001920</td>\n",
       "      <td>0.001995</td>\n",
       "      <td>0.050784</td>\n",
       "      <td>0.044475</td>\n",
       "      <td>0.043812</td>\n",
       "      <td>0.044663</td>\n",
       "      <td>2</td>\n",
       "    </tr>\n",
       "    <tr>\n",
       "      <th>4</th>\n",
       "      <td>5.857288</td>\n",
       "      <td>16.737261</td>\n",
       "      <td>17.875895</td>\n",
       "      <td>17.089386</td>\n",
       "      <td>0.952071</td>\n",
       "      <td>0.403892</td>\n",
       "      <td>0.267009</td>\n",
       "      <td>0.377622</td>\n",
       "      <td>0.201498</td>\n",
       "      <td>0.107262</td>\n",
       "      <td>...</td>\n",
       "      <td>1194.758798</td>\n",
       "      <td>0.001144</td>\n",
       "      <td>0.000805</td>\n",
       "      <td>0.000844</td>\n",
       "      <td>0.000806</td>\n",
       "      <td>0.033822</td>\n",
       "      <td>0.028372</td>\n",
       "      <td>0.029049</td>\n",
       "      <td>0.028390</td>\n",
       "      <td>2</td>\n",
       "    </tr>\n",
       "  </tbody>\n",
       "</table>\n",
       "<p>5 rows × 25 columns</p>\n",
       "</div>"
      ],
      "text/plain": [
       "   dissimilarity_0  dissimilarity_45  dissimilarity_90  dissimilarity_135  \\\n",
       "0         3.678102          6.468785          6.257544           6.491273   \n",
       "1         4.396102         12.171347         13.892070          13.380560   \n",
       "2         3.334305          4.433875          4.334105           4.405370   \n",
       "3         4.314475          5.777836          5.753193           5.763689   \n",
       "4         5.857288         16.737261         17.875895          17.089386   \n",
       "\n",
       "   correlation_0  correlation_45  correlation_90  correlation_135  \\\n",
       "0       0.915573        0.018493        0.075505         0.021779   \n",
       "1       0.959208        0.717372        0.645733         0.672928   \n",
       "2       0.787040        0.602248        0.619119         0.608713   \n",
       "3       0.756037        0.628341        0.657986         0.623906   \n",
       "4       0.952071        0.403892        0.267009         0.377622   \n",
       "\n",
       "   homogeneity_0  homogeneity_45  ...  contrast_135     ASM_0    ASM_45  \\\n",
       "0       0.275196        0.202223  ...    215.975507  0.003788  0.002980   \n",
       "1       0.354369        0.256529  ...   1031.298494  0.003142  0.002297   \n",
       "2       0.280222        0.224585  ...     39.051415  0.003641  0.002988   \n",
       "3       0.252098        0.192253  ...     92.771572  0.002579  0.001978   \n",
       "4       0.201498        0.107262  ...   1194.758798  0.001144  0.000805   \n",
       "\n",
       "     ASM_90   ASM_135  energy_0  energy_45  energy_90  energy_135  label  \n",
       "0  0.003008  0.002954  0.061551   0.054587   0.054849    0.054355      2  \n",
       "1  0.002205  0.002255  0.056056   0.047928   0.046956    0.047492      2  \n",
       "2  0.003047  0.003001  0.060337   0.054659   0.055196    0.054781      2  \n",
       "3  0.001920  0.001995  0.050784   0.044475   0.043812    0.044663      2  \n",
       "4  0.000844  0.000806  0.033822   0.028372   0.029049    0.028390      2  \n",
       "\n",
       "[5 rows x 25 columns]"
      ]
     },
     "execution_count": 81,
     "metadata": {},
     "output_type": "execute_result"
    }
   ],
   "source": [
    "df.head()"
   ]
  },
  {
   "cell_type": "code",
   "execution_count": 82,
   "id": "d832b576",
   "metadata": {},
   "outputs": [
    {
     "data": {
      "text/plain": [
       "819902.511334965"
      ]
     },
     "execution_count": 82,
     "metadata": {},
     "output_type": "execute_result"
    }
   ],
   "source": [
    "np.dot(df[\"dissimilarity_0\"],df[\"dissimilarity_45\"])"
   ]
  },
  {
   "cell_type": "code",
   "execution_count": 83,
   "id": "008f86eb",
   "metadata": {},
   "outputs": [
    {
     "data": {
      "text/plain": [
       "730.973169734113"
      ]
     },
     "execution_count": 83,
     "metadata": {},
     "output_type": "execute_result"
    }
   ],
   "source": [
    "np.linalg.norm(df[\"dissimilarity_0\"])"
   ]
  },
  {
   "cell_type": "code",
   "execution_count": 85,
   "id": "be514a2a",
   "metadata": {},
   "outputs": [
    {
     "data": {
      "text/html": [
       "<div>\n",
       "<style scoped>\n",
       "    .dataframe tbody tr th:only-of-type {\n",
       "        vertical-align: middle;\n",
       "    }\n",
       "\n",
       "    .dataframe tbody tr th {\n",
       "        vertical-align: top;\n",
       "    }\n",
       "\n",
       "    .dataframe thead th {\n",
       "        text-align: right;\n",
       "    }\n",
       "</style>\n",
       "<table border=\"1\" class=\"dataframe\">\n",
       "  <thead>\n",
       "    <tr style=\"text-align: right;\">\n",
       "      <th></th>\n",
       "      <th>dissimilarity_0</th>\n",
       "      <th>dissimilarity_45</th>\n",
       "      <th>dissimilarity_90</th>\n",
       "      <th>dissimilarity_135</th>\n",
       "      <th>correlation_0</th>\n",
       "      <th>correlation_45</th>\n",
       "      <th>correlation_90</th>\n",
       "      <th>correlation_135</th>\n",
       "      <th>homogeneity_0</th>\n",
       "      <th>homogeneity_45</th>\n",
       "      <th>...</th>\n",
       "      <th>contrast_90</th>\n",
       "      <th>contrast_135</th>\n",
       "      <th>ASM_0</th>\n",
       "      <th>ASM_45</th>\n",
       "      <th>ASM_90</th>\n",
       "      <th>ASM_135</th>\n",
       "      <th>energy_0</th>\n",
       "      <th>energy_45</th>\n",
       "      <th>energy_90</th>\n",
       "      <th>energy_135</th>\n",
       "    </tr>\n",
       "    <tr>\n",
       "      <th>label</th>\n",
       "      <th></th>\n",
       "      <th></th>\n",
       "      <th></th>\n",
       "      <th></th>\n",
       "      <th></th>\n",
       "      <th></th>\n",
       "      <th></th>\n",
       "      <th></th>\n",
       "      <th></th>\n",
       "      <th></th>\n",
       "      <th></th>\n",
       "      <th></th>\n",
       "      <th></th>\n",
       "      <th></th>\n",
       "      <th></th>\n",
       "      <th></th>\n",
       "      <th></th>\n",
       "      <th></th>\n",
       "      <th></th>\n",
       "      <th></th>\n",
       "      <th></th>\n",
       "    </tr>\n",
       "  </thead>\n",
       "  <tbody>\n",
       "    <tr>\n",
       "      <th>0</th>\n",
       "      <td>17.075186</td>\n",
       "      <td>19.076014</td>\n",
       "      <td>17.000596</td>\n",
       "      <td>19.423916</td>\n",
       "      <td>0.312974</td>\n",
       "      <td>0.194221</td>\n",
       "      <td>0.329614</td>\n",
       "      <td>0.165452</td>\n",
       "      <td>0.095627</td>\n",
       "      <td>0.075057</td>\n",
       "      <td>...</td>\n",
       "      <td>554.261439</td>\n",
       "      <td>689.053632</td>\n",
       "      <td>0.000371</td>\n",
       "      <td>0.000340</td>\n",
       "      <td>0.000379</td>\n",
       "      <td>0.000337</td>\n",
       "      <td>0.019250</td>\n",
       "      <td>0.018446</td>\n",
       "      <td>0.019469</td>\n",
       "      <td>0.018363</td>\n",
       "    </tr>\n",
       "    <tr>\n",
       "      <th>1</th>\n",
       "      <td>13.163559</td>\n",
       "      <td>18.187746</td>\n",
       "      <td>16.692561</td>\n",
       "      <td>17.648121</td>\n",
       "      <td>0.835544</td>\n",
       "      <td>0.681338</td>\n",
       "      <td>0.711845</td>\n",
       "      <td>0.701924</td>\n",
       "      <td>0.117500</td>\n",
       "      <td>0.084725</td>\n",
       "      <td>...</td>\n",
       "      <td>612.228281</td>\n",
       "      <td>632.555145</td>\n",
       "      <td>0.000349</td>\n",
       "      <td>0.000286</td>\n",
       "      <td>0.000310</td>\n",
       "      <td>0.000290</td>\n",
       "      <td>0.018692</td>\n",
       "      <td>0.016902</td>\n",
       "      <td>0.017594</td>\n",
       "      <td>0.017040</td>\n",
       "    </tr>\n",
       "    <tr>\n",
       "      <th>2</th>\n",
       "      <td>3.678102</td>\n",
       "      <td>6.468785</td>\n",
       "      <td>6.257544</td>\n",
       "      <td>6.491273</td>\n",
       "      <td>0.915573</td>\n",
       "      <td>0.018493</td>\n",
       "      <td>0.075505</td>\n",
       "      <td>0.021779</td>\n",
       "      <td>0.275196</td>\n",
       "      <td>0.202223</td>\n",
       "      <td>...</td>\n",
       "      <td>208.553053</td>\n",
       "      <td>215.975507</td>\n",
       "      <td>0.003788</td>\n",
       "      <td>0.002980</td>\n",
       "      <td>0.003008</td>\n",
       "      <td>0.002954</td>\n",
       "      <td>0.061551</td>\n",
       "      <td>0.054587</td>\n",
       "      <td>0.054849</td>\n",
       "      <td>0.054355</td>\n",
       "    </tr>\n",
       "  </tbody>\n",
       "</table>\n",
       "<p>3 rows × 24 columns</p>\n",
       "</div>"
      ],
      "text/plain": [
       "       dissimilarity_0  dissimilarity_45  dissimilarity_90  dissimilarity_135  \\\n",
       "label                                                                           \n",
       "0            17.075186         19.076014         17.000596          19.423916   \n",
       "1            13.163559         18.187746         16.692561          17.648121   \n",
       "2             3.678102          6.468785          6.257544           6.491273   \n",
       "\n",
       "       correlation_0  correlation_45  correlation_90  correlation_135  \\\n",
       "label                                                                   \n",
       "0           0.312974        0.194221        0.329614         0.165452   \n",
       "1           0.835544        0.681338        0.711845         0.701924   \n",
       "2           0.915573        0.018493        0.075505         0.021779   \n",
       "\n",
       "       homogeneity_0  homogeneity_45  ...  contrast_90  contrast_135  \\\n",
       "label                                 ...                              \n",
       "0           0.095627        0.075057  ...   554.261439    689.053632   \n",
       "1           0.117500        0.084725  ...   612.228281    632.555145   \n",
       "2           0.275196        0.202223  ...   208.553053    215.975507   \n",
       "\n",
       "          ASM_0    ASM_45    ASM_90   ASM_135  energy_0  energy_45  energy_90  \\\n",
       "label                                                                           \n",
       "0      0.000371  0.000340  0.000379  0.000337  0.019250   0.018446   0.019469   \n",
       "1      0.000349  0.000286  0.000310  0.000290  0.018692   0.016902   0.017594   \n",
       "2      0.003788  0.002980  0.003008  0.002954  0.061551   0.054587   0.054849   \n",
       "\n",
       "       energy_135  \n",
       "label              \n",
       "0        0.018363  \n",
       "1        0.017040  \n",
       "2        0.054355  \n",
       "\n",
       "[3 rows x 24 columns]"
      ]
     },
     "execution_count": 85,
     "metadata": {},
     "output_type": "execute_result"
    }
   ],
   "source": [
    "grouped=df.groupby(\"label\")\n",
    "grouped.first()"
   ]
  },
  {
   "cell_type": "code",
   "execution_count": 86,
   "id": "8c9bc6c6",
   "metadata": {},
   "outputs": [],
   "source": [
    "class_A_data = df[df['label'] == 0]\n",
    "class_B_data = df[df['label'] == 1]\n"
   ]
  },
  {
   "cell_type": "code",
   "execution_count": 87,
   "id": "d3af43b0",
   "metadata": {},
   "outputs": [],
   "source": [
    "import numpy as np\n",
    "\n",
    "centroid_A = np.mean(class_A_data, axis=0)\n",
    "centroid_B = np.mean(class_B_data, axis=0)\n"
   ]
  },
  {
   "cell_type": "code",
   "execution_count": 88,
   "id": "70274b36",
   "metadata": {},
   "outputs": [
    {
     "name": "stdout",
     "output_type": "stream",
     "text": [
      "dissimilarity_0        14.463698\n",
      "dissimilarity_45       22.246596\n",
      "dissimilarity_90       21.285043\n",
      "dissimilarity_135      22.252454\n",
      "correlation_0           0.654637\n",
      "correlation_45          0.177162\n",
      "correlation_90          0.231060\n",
      "correlation_135         0.176136\n",
      "homogeneity_0           0.125935\n",
      "homogeneity_45          0.075162\n",
      "homogeneity_90          0.079722\n",
      "homogeneity_135         0.075279\n",
      "contrast_0            543.245253\n",
      "contrast_45          1043.760862\n",
      "contrast_90           979.642156\n",
      "contrast_135         1044.327558\n",
      "ASM_0                   0.000572\n",
      "ASM_45                  0.000386\n",
      "ASM_90                  0.000397\n",
      "ASM_135                 0.000386\n",
      "energy_0                0.023290\n",
      "energy_45               0.019231\n",
      "energy_90               0.019524\n",
      "energy_135              0.019235\n",
      "label                   0.000000\n",
      "dtype: float64\n"
     ]
    }
   ],
   "source": [
    "print(centroid_A)\n"
   ]
  },
  {
   "cell_type": "code",
   "execution_count": 89,
   "id": "bec62feb",
   "metadata": {},
   "outputs": [
    {
     "data": {
      "text/plain": [
       "dissimilarity_0       11.364715\n",
       "dissimilarity_45      18.491084\n",
       "dissimilarity_90      17.910352\n",
       "dissimilarity_135     18.503760\n",
       "correlation_0          0.716550\n",
       "correlation_45         0.193306\n",
       "correlation_90         0.255012\n",
       "correlation_135        0.192345\n",
       "homogeneity_0          0.129813\n",
       "homogeneity_45         0.078516\n",
       "homogeneity_90         0.082072\n",
       "homogeneity_135        0.078482\n",
       "contrast_0           322.850978\n",
       "contrast_45          769.146363\n",
       "contrast_90          733.822983\n",
       "contrast_135         770.030027\n",
       "ASM_0                  0.000655\n",
       "ASM_45                 0.000477\n",
       "ASM_90                 0.000482\n",
       "ASM_135                0.000477\n",
       "energy_0               0.024985\n",
       "energy_45              0.021282\n",
       "energy_90              0.021405\n",
       "energy_135             0.021283\n",
       "label                  1.000000\n",
       "dtype: float64"
      ]
     },
     "execution_count": 89,
     "metadata": {},
     "output_type": "execute_result"
    }
   ],
   "source": [
    "centroid_B"
   ]
  },
  {
   "cell_type": "code",
   "execution_count": 90,
   "id": "0e4f60f6",
   "metadata": {},
   "outputs": [],
   "source": [
    "centroid_A = np.std(class_A_data,axis=0)\n",
    "centroid_B = np.std(class_B_data,axis=0)"
   ]
  },
  {
   "cell_type": "code",
   "execution_count": 91,
   "id": "e0d03612",
   "metadata": {},
   "outputs": [
    {
     "data": {
      "text/plain": [
       "dissimilarity_0      2.101045e+00\n",
       "dissimilarity_45     3.720619e+00\n",
       "dissimilarity_90     3.688180e+00\n",
       "dissimilarity_135    3.737543e+00\n",
       "correlation_0        7.878768e-02\n",
       "correlation_45       1.633731e-01\n",
       "correlation_90       1.426492e-01\n",
       "correlation_135      1.639707e-01\n",
       "homogeneity_0        2.400439e-02\n",
       "homogeneity_45       2.063047e-02\n",
       "homogeneity_90       2.051947e-02\n",
       "homogeneity_135      2.078595e-02\n",
       "contrast_0           1.020118e+02\n",
       "contrast_45          2.512082e+02\n",
       "contrast_90          2.574447e+02\n",
       "contrast_135         2.523584e+02\n",
       "ASM_0                3.119071e-04\n",
       "ASM_45               2.426396e-04\n",
       "ASM_90               2.436804e-04\n",
       "ASM_135              2.425649e-04\n",
       "energy_0             5.502497e-03\n",
       "energy_45            4.925488e-03\n",
       "energy_90            4.916561e-03\n",
       "energy_135           4.925295e-03\n",
       "label                1.110223e-16\n",
       "dtype: float64"
      ]
     },
     "execution_count": 91,
     "metadata": {},
     "output_type": "execute_result"
    }
   ],
   "source": [
    "centroid_A\n",
    "centroid_B"
   ]
  },
  {
   "cell_type": "code",
   "execution_count": 95,
   "id": "b80c5748",
   "metadata": {},
   "outputs": [
    {
     "data": {
      "image/png": "[encoded data removed]",
      "text/plain": [
       "<Figure size 640x480 with 1 Axes>"
      ]
     },
     "metadata": {},
     "output_type": "display_data"
    }
   ],
   "source": [
    "\n",
    "import numpy as np\n",
    "import matplotlib.pyplot as plt\n",
    "\n",
    "selected_feature = df['dissimilarity_0']\n",
    "num_bins =10\n",
    "hist, bins = np.histogram(selected_feature, bins=num_bins)\n",
    "\n",
    "plt.hist(selected_feature, bins=num_bins,  color='w', edgecolor='black')\n",
    "plt.xlabel('Value')\n",
    "plt.ylabel('Frequency')\n",
    "plt.title('Histogram of Selected Feature')\n",
    "plt.show()\n"
   ]
  },
  {
   "cell_type": "code",
   "execution_count": 97,
   "id": "7ed8d01a",
   "metadata": {},
   "outputs": [
    {
     "data": {
      "image/png": "[encoded data removed]",
      "text/plain": [
       "<Figure size 640x480 with 1 Axes>"
      ]
     },
     "metadata": {},
     "output_type": "display_data"
    }
   ],
   "source": [
    "import numpy as np\n",
    "import matplotlib.pyplot as plt\n",
    "vector1 = df.iloc[0, :]  \n",
    "vector2 = df.iloc[1, :]  \n",
    "distances = []\n",
    "r_values = list(range(1, 11))\n",
    "for r in r_values:\n",
    "    distance = np.power(np.sum(np.abs(vector1 - vector2) ** r), 1/r)\n",
    "    distances.append(distance)\n",
    "\n",
    "plt.plot(r_values, distances, marker='o', linestyle='-')\n",
    "plt.xlabel('r')\n",
    "plt.ylabel('Minkowski Distance')\n",
    "plt.title('Minkowski Distance vs. r')\n",
    "plt.grid(True)\n",
    "plt.show()\n"
   ]
  },
  {
   "cell_type": "code",
   "execution_count": 98,
   "id": "91167a8e",
   "metadata": {},
   "outputs": [],
   "source": [
    "import numpy as np\n",
    "from sklearn.model_selection import train_test_split\n",
    "X = df.iloc[:, :-1]\n",
    "y = df.iloc[:, -1]\n",
    "\n",
    "X_train, X_test, y_train, y_test = train_test_split(X, y, test_size=0.3)\n"
   ]
  },
  {
   "cell_type": "code",
   "execution_count": 99,
   "id": "3a4dca88",
   "metadata": {},
   "outputs": [
    {
     "data": {
      "text/plain": [
       "1779    1\n",
       "3135    1\n",
       "1587    1\n",
       "1042    1\n",
       "554     0\n",
       "       ..\n",
       "3197    2\n",
       "1253    0\n",
       "1328    0\n",
       "1994    1\n",
       "1598    1\n",
       "Name: label, Length: 976, dtype: int64"
      ]
     },
     "execution_count": 99,
     "metadata": {},
     "output_type": "execute_result"
    }
   ],
   "source": [
    "y_test"
   ]
  },
  {
   "cell_type": "code",
   "execution_count": 100,
   "id": "3ee54f34",
   "metadata": {},
   "outputs": [
    {
     "name": "stdout",
     "output_type": "stream",
     "text": [
      "              0         1          2    3          4          5          6  \\\n",
      "0     27.630783  0.000000  51.067493  0.0  26.302004   0.000000   0.000000   \n",
      "1     41.934185  0.000000  57.616398  0.0  40.345722   0.000000   0.000000   \n",
      "2     59.681458  0.000000  35.450397  0.0  51.084698   0.000000   0.000000   \n",
      "3     25.652845  0.000000  42.711246  0.0  26.391441   0.000000   0.000000   \n",
      "4     51.862490  0.000000  25.455917  0.0  48.505250   0.000000   0.000000   \n",
      "...         ...       ...        ...  ...        ...        ...        ...   \n",
      "6652   0.000000  8.917019  12.606703  0.0   0.000000  23.875010   0.000000   \n",
      "6653  12.088920  3.646342  28.106102  0.0   0.000000   0.000000   0.000000   \n",
      "6654   0.000000  0.000000  53.899130  0.0   0.000000   0.000000  12.079654   \n",
      "6655   0.000000  0.000000  37.811558  0.0   0.000000   0.000000   8.555406   \n",
      "6656   0.000000  0.000000  29.105694  0.0   0.000000   8.669491  20.568624   \n",
      "\n",
      "        7    8         9  ...         55         56   57         58  \\\n",
      "0     0.0  0.0  0.000000  ...  35.563477   8.822042  0.0  18.269510   \n",
      "1     0.0  0.0  0.000000  ...  33.432617  22.573324  0.0  25.266916   \n",
      "2     0.0  0.0  4.531399  ...  17.747238  22.295591  0.0   9.600313   \n",
      "3     0.0  0.0  0.000000  ...  25.998358  12.029038  0.0  19.127953   \n",
      "4     0.0  0.0  0.000000  ...  27.024067   1.758605  0.0  17.696215   \n",
      "...   ...  ...       ...  ...        ...        ...  ...        ...   \n",
      "6652  0.0  0.0  9.403310  ...   0.000000   9.477231  0.0   0.000000   \n",
      "6653  0.0  0.0  0.000000  ...   0.000000   0.000000  0.0   0.000000   \n",
      "6654  0.0  0.0  0.000000  ...  12.388772  58.245360  0.0   0.000000   \n",
      "6655  0.0  0.0  0.000000  ...   7.663426  23.674717  0.0   0.000000   \n",
      "6656  0.0  0.0  0.000000  ...  11.354428  39.144600  0.0   0.000000   \n",
      "\n",
      "             59         60         61         62   63  class_name  \n",
      "0     82.596970   0.000000   0.000000   1.751286  0.0        3333  \n",
      "1     71.188900   0.000000   0.000000   0.000000  0.0        3333  \n",
      "2     39.380276   0.000000   0.000000  13.358544  0.0        3333  \n",
      "3     60.226376   0.000000   0.000000   0.000000  0.0        3333  \n",
      "4     64.634834   0.000000   0.000000   9.861172  0.0        3333  \n",
      "...         ...        ...        ...        ...  ...         ...  \n",
      "6652  46.723995   0.000000  20.901190   7.003646  0.0        3454  \n",
      "6653  38.677414   0.000000   1.824834   7.562943  0.0        3454  \n",
      "6654  47.787598   5.880453   0.000000   3.556168  0.0        3454  \n",
      "6655  53.260387   3.350826   0.000000   8.673196  0.0        3454  \n",
      "6656  62.376480  13.449656   0.000000  10.945368  0.0        3454  \n",
      "\n",
      "[6657 rows x 65 columns]\n"
     ]
    },
    {
     "data": {
      "text/plain": [
       "(6657, 65)"
      ]
     },
     "execution_count": 100,
     "metadata": {},
     "output_type": "execute_result"
    }
   ],
   "source": [
    "import pandas as pd\n",
    "import numpy as np\n",
    "import seaborn as sns\n",
    "import matplotlib.pyplot as plt\n",
    "from sklearn.model_selection import train_test_split\n",
    "\n",
    "from sklearn.neighbors import KNeighborsClassifier\n",
    "from sklearn.metrics import accuracy_score\n",
    "\n",
    "from sklearn.model_selection import train_test_split\n",
    "\n",
    "dt=pd.read_csv(\"extracted_features_charrec_dense7.csv\")\n",
    "print(dt)\n",
    "dt.shape"
   ]
  },
  {
   "cell_type": "code",
   "execution_count": 101,
   "id": "57dae92b",
   "metadata": {},
   "outputs": [],
   "source": [
    "\n",
    "data = np.genfromtxt(\"extracted_features_charrec_dense7.csv\", delimiter=',', skip_header=1)\n",
    "\n",
    "# Extract feature vectors and class labels\n",
    "X = data[:, :-1]\n",
    "y = data[:, -1]\n",
    "\n",
    "np.savez('extracted_features_charrec_dense7.npz', X=X, y=y)\n"
   ]
  },
  {
   "cell_type": "code",
   "execution_count": 102,
   "id": "6d3fe2e0",
   "metadata": {},
   "outputs": [
    {
     "data": {
      "text/plain": [
       "array([0.0000000e+00, 3.4163892e-04, 4.6131015e-04, ..., 3.4520000e+03,\n",
       "       3.4530000e+03, 3.4540000e+03])"
      ]
     },
     "execution_count": 102,
     "metadata": {},
     "output_type": "execute_result"
    }
   ],
   "source": [
    "np.unique(data)"
   ]
  },
  {
   "cell_type": "code",
   "execution_count": 103,
   "id": "ab72d4a8",
   "metadata": {},
   "outputs": [
    {
     "data": {
      "text/plain": [
       "array([[2.7630783e+01, 0.0000000e+00, 5.1067493e+01, ..., 1.7512865e+00,\n",
       "        0.0000000e+00, 3.3330000e+03],\n",
       "       [4.1934185e+01, 0.0000000e+00, 5.7616398e+01, ..., 0.0000000e+00,\n",
       "        0.0000000e+00, 3.3330000e+03],\n",
       "       [5.9681458e+01, 0.0000000e+00, 3.5450397e+01, ..., 1.3358544e+01,\n",
       "        0.0000000e+00, 3.3330000e+03],\n",
       "       ...,\n",
       "       [0.0000000e+00, 0.0000000e+00, 5.3899130e+01, ..., 3.5561680e+00,\n",
       "        0.0000000e+00, 3.4540000e+03],\n",
       "       [0.0000000e+00, 0.0000000e+00, 3.7811558e+01, ..., 8.6731960e+00,\n",
       "        0.0000000e+00, 3.4540000e+03],\n",
       "       [0.0000000e+00, 0.0000000e+00, 2.9105694e+01, ..., 1.0945368e+01,\n",
       "        0.0000000e+00, 3.4540000e+03]])"
      ]
     },
     "execution_count": 103,
     "metadata": {},
     "output_type": "execute_result"
    }
   ],
   "source": [
    "zero_rows_mask = (data==0).any(axis=1)\n",
    "class1= data[zero_rows_mask]\n",
    "class1"
   ]
  },
  {
   "cell_type": "code",
   "execution_count": 104,
   "id": "2afa8d8c",
   "metadata": {},
   "outputs": [
    {
     "data": {
      "text/plain": [
       "array([[   0.       ,    3.5745394,   31.44596  , ...,    0.       ,\n",
       "           0.       , 3454.       ],\n",
       "       [   0.       ,    9.891518 ,   17.99879  , ...,    0.       ,\n",
       "           0.       , 3454.       ],\n",
       "       [   0.       ,    9.891518 ,   17.99879  , ...,    0.       ,\n",
       "           0.       , 3454.       ],\n",
       "       ...,\n",
       "       [   0.       ,    0.       ,   53.89913  , ...,    3.556168 ,\n",
       "           0.       , 3454.       ],\n",
       "       [   0.       ,    0.       ,   37.811558 , ...,    8.673196 ,\n",
       "           0.       , 3454.       ],\n",
       "       [   0.       ,    0.       ,   29.105694 , ...,   10.945368 ,\n",
       "           0.       , 3454.       ]])"
      ]
     },
     "execution_count": 104,
     "metadata": {},
     "output_type": "execute_result"
    }
   ],
   "source": [
    "one_rows_mask = (data == 3.4540000e+03).any(axis=1)\n",
    "class2=data[one_rows_mask]\n",
    "class2"
   ]
  },
  {
   "cell_type": "code",
   "execution_count": 105,
   "id": "93afadf5",
   "metadata": {},
   "outputs": [
    {
     "data": {
      "text/html": [
       "<style>#sk-container-id-1 {color: black;}#sk-container-id-1 pre{padding: 0;}#sk-container-id-1 div.sk-toggleable {background-color: white;}#sk-container-id-1 label.sk-toggleable__label {cursor: pointer;display: block;width: 100%;margin-bottom: 0;padding: 0.3em;box-sizing: border-box;text-align: center;}#sk-container-id-1 label.sk-toggleable__label-arrow:before {content: \"▸\";float: left;margin-right: 0.25em;color: #696969;}#sk-container-id-1 label.sk-toggleable__label-arrow:hover:before {color: black;}#sk-container-id-1 div.sk-estimator:hover label.sk-toggleable__label-arrow:before {color: black;}#sk-container-id-1 div.sk-toggleable__content {max-height: 0;max-width: 0;overflow: hidden;text-align: left;background-color: #f0f8ff;}#sk-container-id-1 div.sk-toggleable__content pre {margin: 0.2em;color: black;border-radius: 0.25em;background-color: #f0f8ff;}#sk-container-id-1 input.sk-toggleable__control:checked~div.sk-toggleable__content {max-height: 200px;max-width: 100%;overflow: auto;}#sk-container-id-1 input.sk-toggleable__control:checked~label.sk-toggleable__label-arrow:before {content: \"▾\";}#sk-container-id-1 div.sk-estimator input.sk-toggleable__control:checked~label.sk-toggleable__label {background-color: #d4ebff;}#sk-container-id-1 div.sk-label input.sk-toggleable__control:checked~label.sk-toggleable__label {background-color: #d4ebff;}#sk-container-id-1 input.sk-hidden--visually {border: 0;clip: rect(1px 1px 1px 1px);clip: rect(1px, 1px, 1px, 1px);height: 1px;margin: -1px;overflow: hidden;padding: 0;position: absolute;width: 1px;}#sk-container-id-1 div.sk-estimator {font-family: monospace;background-color: #f0f8ff;border: 1px dotted black;border-radius: 0.25em;box-sizing: border-box;margin-bottom: 0.5em;}#sk-container-id-1 div.sk-estimator:hover {background-color: #d4ebff;}#sk-container-id-1 div.sk-parallel-item::after {content: \"\";width: 100%;border-bottom: 1px solid gray;flex-grow: 1;}#sk-container-id-1 div.sk-label:hover label.sk-toggleable__label {background-color: #d4ebff;}#sk-container-id-1 div.sk-serial::before {content: \"\";position: absolute;border-left: 1px solid gray;box-sizing: border-box;top: 0;bottom: 0;left: 50%;z-index: 0;}#sk-container-id-1 div.sk-serial {display: flex;flex-direction: column;align-items: center;background-color: white;padding-right: 0.2em;padding-left: 0.2em;position: relative;}#sk-container-id-1 div.sk-item {position: relative;z-index: 1;}#sk-container-id-1 div.sk-parallel {display: flex;align-items: stretch;justify-content: center;background-color: white;position: relative;}#sk-container-id-1 div.sk-item::before, #sk-container-id-1 div.sk-parallel-item::before {content: \"\";position: absolute;border-left: 1px solid gray;box-sizing: border-box;top: 0;bottom: 0;left: 50%;z-index: -1;}#sk-container-id-1 div.sk-parallel-item {display: flex;flex-direction: column;z-index: 1;position: relative;background-color: white;}#sk-container-id-1 div.sk-parallel-item:first-child::after {align-self: flex-end;width: 50%;}#sk-container-id-1 div.sk-parallel-item:last-child::after {align-self: flex-start;width: 50%;}#sk-container-id-1 div.sk-parallel-item:only-child::after {width: 0;}#sk-container-id-1 div.sk-dashed-wrapped {border: 1px dashed gray;margin: 0 0.4em 0.5em 0.4em;box-sizing: border-box;padding-bottom: 0.4em;background-color: white;}#sk-container-id-1 div.sk-label label {font-family: monospace;font-weight: bold;display: inline-block;line-height: 1.2em;}#sk-container-id-1 div.sk-label-container {text-align: center;}#sk-container-id-1 div.sk-container {/* jupyter's `normalize.less` sets `[hidden] { display: none; }` but bootstrap.min.css set `[hidden] { display: none !important; }` so we also need the `!important` here to be able to override the default hidden behavior on the sphinx rendered scikit-learn.org. See: https://github.com/scikit-learn/scikit-learn/issues/21755 */display: inline-block !important;position: relative;}#sk-container-id-1 div.sk-text-repr-fallback {display: none;}</style><div id=\"sk-container-id-1\" class=\"sk-top-container\"><div class=\"sk-text-repr-fallback\"><pre>KNeighborsClassifier(n_neighbors=3)</pre><b>In a Jupyter environment, please rerun this cell to show the HTML representation or trust the notebook. <br />On GitHub, the HTML representation is unable to render, please try loading this page with nbviewer.org.</b></div><div class=\"sk-container\" hidden><div class=\"sk-item\"><div class=\"sk-estimator sk-toggleable\"><input class=\"sk-toggleable__control sk-hidden--visually\" id=\"sk-estimator-id-1\" type=\"checkbox\" checked><label for=\"sk-estimator-id-1\" class=\"sk-toggleable__label sk-toggleable__label-arrow\">KNeighborsClassifier</label><div class=\"sk-toggleable__content\"><pre>KNeighborsClassifier(n_neighbors=3)</pre></div></div></div></div></div>"
      ],
      "text/plain": [
       "KNeighborsClassifier(n_neighbors=3)"
      ]
     },
     "execution_count": 105,
     "metadata": {},
     "output_type": "execute_result"
    }
   ],
   "source": [
    "#5\n",
    "from sklearn.neighbors import KNeighborsClassifier\n",
    "from sklearn.model_selection import train_test_split\n",
    "\n",
    "\n",
    "\n",
    "X = data[:, :-1]\n",
    "y = data[:, -1]\n",
    "\n",
    "\n",
    "X_train, X_test, y_train, y_test = train_test_split(X, y, test_size=0.3, random_state=42)# Split data into training and testing sets\n",
    "\n",
    "neigh = KNeighborsClassifier(n_neighbors=3)# Create kNN classifier with k=3\n",
    "neigh.fit(X_train, y_train)"
   ]
  },
  {
   "cell_type": "code",
   "execution_count": 106,
   "id": "1f53de15",
   "metadata": {},
   "outputs": [
    {
     "name": "stdout",
     "output_type": "stream",
     "text": [
      "Accuracy: 0.6556556556556556\n"
     ]
    }
   ],
   "source": [
    "X = data[:, :-1]\n",
    "y = data[:, -1]\n",
    "X_train, X_test, y_train, y_test = train_test_split(X, y, test_size=0.3, random_state=42)\n",
    "neigh = KNeighborsClassifier(n_neighbors=3)\n",
    "neigh.fit(X_train, y_train)\n",
    "accuracy = neigh.score(X_test, y_test)\n",
    "print(\"Accuracy:\", accuracy)"
   ]
  },
  {
   "cell_type": "code",
   "execution_count": 107,
   "id": "7ac9e0b5",
   "metadata": {},
   "outputs": [
    {
     "name": "stdout",
     "output_type": "stream",
     "text": [
      "Predicted class labels: [3362. 3334. 3372. ... 3352. 3356. 3335.]\n"
     ]
    }
   ],
   "source": [
    "X_train, X_test, y_train, y_test = train_test_split(X, y, test_size=0.3, random_state=42)\n",
    "neigh = KNeighborsClassifier(n_neighbors=3)\n",
    "neigh.fit(X_train, y_train)\n",
    "y_pred = neigh.predict(X_test)\n",
    "print(\"Predicted class labels:\", y_pred)"
   ]
  },
  {
   "cell_type": "code",
   "execution_count": 108,
   "id": "49a46b83",
   "metadata": {},
   "outputs": [
    {
     "name": "stdout",
     "output_type": "stream",
     "text": [
      "Accuracy: 0.6786786786786787\n"
     ]
    }
   ],
   "source": [
    "X_train, X_test, y_train, y_test = train_test_split(X, y, test_size=0.2, random_state=42)\n",
    "neigh = KNeighborsClassifier(n_neighbors=5)\n",
    "neigh.fit(X_train, y_train)\n",
    "accuracy = neigh.score(X_test, y_test)\n",
    "print(\"Accuracy:\", accuracy)"
   ]
  },
  {
   "cell_type": "code",
   "execution_count": 109,
   "id": "669b0ca4",
   "metadata": {},
   "outputs": [
    {
     "name": "stdout",
     "output_type": "stream",
     "text": [
      "Features shape: (6657, 64)\n",
      "Labels shape: (6657,)\n"
     ]
    }
   ],
   "source": [
    "X = data[:, :-1]\n",
    "y = data[:, -1]\n",
    "print('Features shape:', X.shape)\n",
    "print('Labels shape:', y.shape)\n",
    "\n"
   ]
  },
  {
   "cell_type": "code",
   "execution_count": 111,
   "id": "049722ea",
   "metadata": {},
   "outputs": [
    {
     "name": "stdout",
     "output_type": "stream",
     "text": [
      "Confusion Matrix:\n",
      "[[29  1  0 ...  0  0  0]\n",
      " [ 2 27  0 ...  0  0  0]\n",
      " [ 0  2 22 ...  0  0  0]\n",
      " ...\n",
      " [ 0  0  0 ...  5  0  0]\n",
      " [ 1  0  0 ...  0  9  0]\n",
      " [ 0  0  0 ...  1  0 10]]\n"
     ]
    }
   ],
   "source": [
    "from sklearn.metrics import confusion_matrix\n",
    "X_train, X_test, y_train, y_test = train_test_split(X, y, test_size=0.2, random_state=42)\n",
    "neigh = KNeighborsClassifier(n_neighbors=5)\n",
    "neigh.fit(X_train, y_train)\n",
    "y_pred = neigh.predict(X_test)\n",
    "cm = confusion_matrix(y_test, y_pred)\n",
    "print(\"Confusion Matrix:\")\n",
    "print(cm)\n"
   ]
  },
  {
   "cell_type": "code",
   "execution_count": null,
   "id": "0fa4b7ac",
   "metadata": {},
   "outputs": [],
   "source": []
  }
 ],
 "metadata": {
  "kernelspec": {
   "display_name": "Python 3 (ipykernel)",
   "language": "python",
   "name": "python3"
  },
  "language_info": {
   "codemirror_mode": {
    "name": "ipython",
    "version": 3
   },
   "file_extension": ".py",
   "mimetype": "text/x-python",
   "name": "python",
   "nbconvert_exporter": "python",
   "pygments_lexer": "ipython3",
   "version": "3.11.4"
  }
 },
 "nbformat": 4,
 "nbformat_minor": 5
}
