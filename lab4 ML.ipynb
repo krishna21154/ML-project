{
 "cells": [
  {
   "cell_type": "code",
   "execution_count": 9,
   "id": "5b334196",
   "metadata": {},
   "outputs": [
    {
     "name": "stdout",
     "output_type": "stream",
     "text": [
      "Entropy for Age: 1.5774062828523454\n",
      "Entropy for Income: 1.5566567074628228\n",
      "Entropy for Student: 1.0\n",
      "Entropy for Credit Rating: 0.9852281360342516\n",
      "Entropy for Buys Computer (Class Label): 0.9402859586706311\n",
      "Information Gain for Age: 1.1102230246251565e-16\n",
      "Information Gain for Income: 1.6653345369377348e-16\n",
      "Information Gain for Student: 0.0\n",
      "Information Gain for Credit Rating: 1.1102230246251565e-16\n",
      "The first feature for constructing the decision tree is Income.\n"
     ]
    }
   ],
   "source": [
    "import pandas as pd\n",
    "import numpy as np\n",
    "import math\n",
    "data= {\n",
    "    'age': ['<=30', '<=30', '31…40', '>40', '>40', '>40', '31…40', '<=30', '<=30', '>40', '<=30', '31…40', '31…40', '>40'],\n",
    "    'income': ['high', 'high', 'high', 'medium', 'low', 'low', 'low', 'medium', 'low', 'medium', 'medium', 'medium', 'high', 'medium'],\n",
    "    'student': ['no', 'no', 'no', 'no', 'yes', 'yes', 'yes', 'no', 'yes', 'yes', 'yes', 'no', 'yes', 'no'],\n",
    "    'credit_rating': ['fair', 'excellent', 'fair', 'fair', 'fair', 'excellent', 'excellent', 'fair', 'fair', 'fair', 'excellent', 'excellent', 'fair', 'excellent'],\n",
    "    'buys_computer': ['no', 'no', 'yes', 'yes', 'yes', 'no', 'yes', 'no', 'yes', 'yes', 'yes', 'yes', 'yes', 'no']\n",
    "        }\n",
    "dataread=pd.DataFrame(data)\n",
    "def entropy(attribute):\n",
    "    values = dataread[attribute].unique()\n",
    "    entropy = 0\n",
    "    for value in values:\n",
    "        p = len(dataread[dataread[attribute] == value]) / len(dataread)\n",
    "        entropy += -p * math.log2(p)\n",
    "    return entropy\n",
    "\n",
    " \n",
    "\n",
    "age_entropy = entropy('age')\n",
    "income_entropy = entropy('income')\n",
    "student_entropy = entropy('student')\n",
    "credit_rating_entropy = entropy('credit_rating')\n",
    "buys_computer_entropy = entropy('buys_computer')\n",
    "print('Entropy Age:', age_entropy)\n",
    "print('Entropy Income:', income_entropy)\n",
    "print('Entropy Student:', student_entropy)\n",
    "print('Entropy Credit Rating:', credit_rating_entropy)\n",
    "print('Entropy Buys Computer:', buys_computer_entropy)\n",
    "\n",
    " \n",
    "\n",
    "def information_gain(attribute):\n",
    "    values = dataread[attribute].unique()\n",
    "    information_gain = buys_computer_entropy\n",
    "    for value in values:\n",
    "        subset = dataread[dataread[attribute] == value]\n",
    "        p = len(subset) / len(dataread)\n",
    "        information_gain -= p * entropy('buys_computer')\n",
    "    return information_gain\n",
    "\n",
    " \n",
    "\n",
    "age_information_gain = information_gain('age')\n",
    "income_information_gain = information_gain('income')\n",
    "student_information_gain = information_gain('student')\n",
    "credit_rating_information_gain = information_gain('credit_rating')\n",
    "\n",
    " \n",
    "\n",
    "print('Information Gain for Age:', age_information_gain)\n",
    "print('Information Gain for Income:', income_information_gain)\n",
    "print('Information Gain for Student:', student_information_gain)\n",
    "print('Information Gain for Credit Rating:', credit_rating_information_gain)\n",
    "\n",
    " \n",
    "\n",
    "root_node = max(age_information_gain, income_information_gain, student_information_gain, credit_rating_information_gain)\n",
    "if root_node == age_information_gain:\n",
    "    print('The feature for constructing the decision tree is Age.')\n",
    "elif root_node == income_information_gain:\n",
    "    print('The feature for constructing the decision tree is Income.')\n",
    "elif root_node == student_information_gain:\n",
    "    print('The feature for constructing the decision tree is Student.')\n",
    "else:\n",
    "    print('The feature for constructing the decision tree is Credit Rating.')\n",
    "\n",
    " "
   ]
  },
  {
   "cell_type": "code",
   "execution_count": 11,
   "id": "b9d85e57",
   "metadata": {},
   "outputs": [
    {
     "name": "stdout",
     "output_type": "stream",
     "text": [
      "Training Set Accuracy: 1.0\n",
      "Tree Depth: 4\n"
     ]
    }
   ],
   "source": [
    "import pandas as pd\n",
    "from sklearn.tree import DecisionTreeClassifier\n",
    "\n",
    "data = {\n",
    "    'age': ['<=30', '<=30', '31…40', '>40', '>40', '>40', '31…40', '<=30', '<=30', '>40', '<=30', '31…40', '31…40', '>40'],\n",
    "    'income': ['high', 'high', 'high', 'medium', 'low', 'low', 'low', 'medium', 'low', 'medium', 'medium', 'medium', 'high', 'medium'],\n",
    "    'student': ['no', 'no', 'no', 'no', 'yes', 'yes', 'yes', 'no', 'yes', 'yes', 'yes', 'no', 'yes', 'no'],\n",
    "    'credit_rating': ['fair', 'excellent', 'fair', 'fair', 'fair', 'excellent', 'excellent', 'fair', 'fair', 'fair', 'excellent', 'excellent', 'fair', 'excellent'],\n",
    "    'buys_computer': ['no', 'no', 'yes', 'yes', 'yes', 'no', 'yes', 'no', 'yes', 'yes', 'yes', 'yes', 'yes', 'no']\n",
    "}\n",
    "df = pd.DataFrame(data)\n",
    "df_encoded = df.apply(lambda col: pd.factorize(col)[0])\n",
    "Tr_X = df_encoded.drop(columns=['buys_computer'])\n",
    "Tr_y = df_encoded['buys_computer']\n",
    "model = DecisionTreeClassifier()\n",
    "model.fit(Tr_X, Tr_y)\n",
    "training_accuracy = model.score(Tr_X, Tr_y)\n",
    "print(f\"Training Set Accuracy: {training_accuracy}\")\n",
    "tree_depth = model.get_depth()\n",
    "print(f\"Tree Depth: {tree_depth}\")\n"
   ]
  }
 ],
 "metadata": {
  "kernelspec": {
   "display_name": "Python 3 (ipykernel)",
   "language": "python",
   "name": "python3"
  },
  "language_info": {
   "codemirror_mode": {
    "name": "ipython",
    "version": 3
   },
   "file_extension": ".py",
   "mimetype": "text/x-python",
   "name": "python",
   "nbconvert_exporter": "python",
   "pygments_lexer": "ipython3",
   "version": "3.11.4"
  }
 },
 "nbformat": 4,
 "nbformat_minor": 5
}
